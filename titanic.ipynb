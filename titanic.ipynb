{
 "cells": [
  {
   "cell_type": "code",
   "execution_count": 1,
   "metadata": {},
   "outputs": [],
   "source": [
    "import numpy as np\n",
    "import pandas as pd\n",
    "import matplotlib.pyplot as plt\n",
    "import seaborn as sns\n",
    "import warnings\n",
    "warnings.filterwarnings('ignore')\n",
    "%matplotlib inline"
   ]
  },
  {
   "cell_type": "code",
   "execution_count": 2,
   "metadata": {},
   "outputs": [
    {
     "data": {
      "text/plain": [
       "(891, 12)"
      ]
     },
     "execution_count": 2,
     "metadata": {},
     "output_type": "execute_result"
    }
   ],
   "source": [
    "train = pd.read_csv('data/train.csv')\n",
    "test = pd.read_csv('data/test.csv')\n",
    "\n",
    "train.shape"
   ]
  },
  {
   "cell_type": "code",
   "execution_count": 3,
   "metadata": {},
   "outputs": [
    {
     "name": "stdout",
     "output_type": "stream",
     "text": [
      "<class 'pandas.core.frame.DataFrame'>\n",
      "RangeIndex: 891 entries, 0 to 890\n",
      "Data columns (total 12 columns):\n",
      " #   Column       Non-Null Count  Dtype  \n",
      "---  ------       --------------  -----  \n",
      " 0   PassengerId  891 non-null    int64  \n",
      " 1   Survived     891 non-null    int64  \n",
      " 2   Pclass       891 non-null    int64  \n",
      " 3   Name         891 non-null    object \n",
      " 4   Sex          891 non-null    object \n",
      " 5   Age          714 non-null    float64\n",
      " 6   SibSp        891 non-null    int64  \n",
      " 7   Parch        891 non-null    int64  \n",
      " 8   Ticket       891 non-null    object \n",
      " 9   Fare         891 non-null    float64\n",
      " 10  Cabin        204 non-null    object \n",
      " 11  Embarked     889 non-null    object \n",
      "dtypes: float64(2), int64(5), object(5)\n",
      "memory usage: 83.7+ KB\n"
     ]
    }
   ],
   "source": [
    "train.info()"
   ]
  },
  {
   "cell_type": "code",
   "execution_count": 4,
   "metadata": {},
   "outputs": [
    {
     "data": {
      "text/plain": [
       "PassengerId      0\n",
       "Survived         0\n",
       "Pclass           0\n",
       "Name             0\n",
       "Sex              0\n",
       "Age            177\n",
       "SibSp            0\n",
       "Parch            0\n",
       "Ticket           0\n",
       "Fare             0\n",
       "Cabin          687\n",
       "Embarked         2\n",
       "dtype: int64"
      ]
     },
     "execution_count": 4,
     "metadata": {},
     "output_type": "execute_result"
    }
   ],
   "source": [
    "train.isnull().sum()"
   ]
  },
  {
   "cell_type": "code",
   "execution_count": 5,
   "metadata": {},
   "outputs": [
    {
     "data": {
      "image/png": "[encoded data removed]",
      "text/plain": [
       "<Figure size 600x400 with 1 Axes>"
      ]
     },
     "metadata": {},
     "output_type": "display_data"
    }
   ],
   "source": [
    "f, ax = plt.subplots(figsize=(6, 4))\n",
    "\n",
    "labels = ['Victims', 'Survivors']\n",
    "colors = ['red', 'blue']\n",
    "\n",
    "train['Survived'].value_counts().plot.pie(\n",
    "    explode=[0, 0.1], autopct='%1.1f%%', labels=labels, colors=colors, shadow=False)\n",
    "\n",
    "plt.ylabel('')\n",
    "plt.show()"
   ]
  },
  {
   "cell_type": "code",
   "execution_count": 6,
   "metadata": {},
   "outputs": [
    {
     "data": {
      "image/png": "[encoded data removed]",
      "text/plain": [
       "<Figure size 800x600 with 1 Axes>"
      ]
     },
     "metadata": {},
     "output_type": "display_data"
    }
   ],
   "source": [
    "survival_sex = train.groupby(['Survived', 'Sex']).size().unstack()\n",
    "\n",
    "labels = ['Female', 'Male']\n",
    "colors = ['pink', 'blue']\n",
    "\n",
    "ax = survival_sex.plot(kind='bar', stacked=True, color=colors, figsize=(8, 6))\n",
    "\n",
    "ax.set_ylabel('# of persons')\n",
    "ax.set_xlabel('')\n",
    "\n",
    "ax.set_xticklabels(['Victims', 'Survivors'], rotation=0)\n",
    "\n",
    "plt.legend(labels)\n",
    "plt.show()"
   ]
  },
  {
   "cell_type": "code",
   "execution_count": 7,
   "metadata": {},
   "outputs": [
    {
     "name": "stdout",
     "output_type": "stream",
     "text": [
      "   PassengerId  Pclass                                          Name     Sex  \\\n",
      "0          892       3                              Kelly, Mr. James    male   \n",
      "1          893       3              Wilkes, Mrs. James (Ellen Needs)  female   \n",
      "2          894       2                     Myles, Mr. Thomas Francis    male   \n",
      "3          895       3                              Wirz, Mr. Albert    male   \n",
      "4          896       3  Hirvonen, Mrs. Alexander (Helga E Lindqvist)  female   \n",
      "\n",
      "    Age  SibSp  Parch     Fare Embarked  \n",
      "0  34.5      0      0   7.8292        Q  \n",
      "1  47.0      1      0   7.0000        S  \n",
      "2  62.0      0      0   9.6875        Q  \n",
      "3  27.0      0      0   8.6625        S  \n",
      "4  22.0      1      1  12.2875        S  \n",
      "   PassengerId  Survived  Pclass  \\\n",
      "0            1         0       3   \n",
      "1            2         1       1   \n",
      "2            3         1       3   \n",
      "3            4         1       1   \n",
      "4            5         0       3   \n",
      "\n",
      "                                                Name     Sex   Age  SibSp  \\\n",
      "0                            Braund, Mr. Owen Harris    male  22.0      1   \n",
      "1  Cumings, Mrs. John Bradley (Florence Briggs Th...  female  38.0      1   \n",
      "2                             Heikkinen, Miss. Laina  female  26.0      0   \n",
      "3       Futrelle, Mrs. Jacques Heath (Lily May Peel)  female  35.0      1   \n",
      "4                           Allen, Mr. William Henry    male  35.0      0   \n",
      "\n",
      "   Parch     Fare Embarked  \n",
      "0      0   7.2500        S  \n",
      "1      0  71.2833        C  \n",
      "2      0   7.9250        S  \n",
      "3      0  53.1000        S  \n",
      "4      0   8.0500        S  \n"
     ]
    }
   ],
   "source": [
    "combined = [test, train]\n",
    "\n",
    "for df in combined:\n",
    "    df.drop(['Cabin', 'Ticket'], axis=1, inplace=True)\n",
    "    print(df.head())"
   ]
  },
  {
   "cell_type": "code",
   "execution_count": 8,
   "metadata": {},
   "outputs": [],
   "source": [
    "train['Embarked'].fillna('S', inplace=True)"
   ]
  },
  {
   "cell_type": "code",
   "execution_count": 9,
   "metadata": {},
   "outputs": [
    {
     "name": "stdout",
     "output_type": "stream",
     "text": [
      "   PassengerId  Pclass                                          Name     Sex  \\\n",
      "0          892       3                              Kelly, Mr. James    male   \n",
      "1          893       3              Wilkes, Mrs. James (Ellen Needs)  female   \n",
      "2          894       2                     Myles, Mr. Thomas Francis    male   \n",
      "3          895       3                              Wirz, Mr. Albert    male   \n",
      "4          896       3  Hirvonen, Mrs. Alexander (Helga E Lindqvist)  female   \n",
      "\n",
      "    Age  SibSp  Parch     Fare Embarked Age Group  \n",
      "0  34.5      0      0   7.8292        Q     Adult  \n",
      "1  47.0      1      0   7.0000        S     Adult  \n",
      "2  62.0      0      0   9.6875        Q     Adult  \n",
      "3  27.0      0      0   8.6625        S     Adult  \n",
      "4  22.0      1      1  12.2875        S     Youth  \n",
      "   PassengerId  Survived  Pclass  \\\n",
      "0            1         0       3   \n",
      "1            2         1       1   \n",
      "2            3         1       3   \n",
      "3            4         1       1   \n",
      "4            5         0       3   \n",
      "\n",
      "                                                Name     Sex   Age  SibSp  \\\n",
      "0                            Braund, Mr. Owen Harris    male  22.0      1   \n",
      "1  Cumings, Mrs. John Bradley (Florence Briggs Th...  female  38.0      1   \n",
      "2                             Heikkinen, Miss. Laina  female  26.0      0   \n",
      "3       Futrelle, Mrs. Jacques Heath (Lily May Peel)  female  35.0      1   \n",
      "4                           Allen, Mr. William Henry    male  35.0      0   \n",
      "\n",
      "   Parch     Fare Embarked Age Group  \n",
      "0      0   7.2500        S     Youth  \n",
      "1      0  71.2833        C     Adult  \n",
      "2      0   7.9250        S     Adult  \n",
      "3      0  53.1000        S     Adult  \n",
      "4      0   8.0500        S     Adult  \n"
     ]
    }
   ],
   "source": [
    "bins = [-np.inf, 0, 15, 25, 65, np.inf]\n",
    "labels = ['Unknown', 'Child', 'Youth', 'Adult', 'Senior']\n",
    "\n",
    "for df in combined:\n",
    "    df['Age Group'] = pd.cut(df['Age'].fillna(-1), bins, labels=labels)\n",
    "    print(df.head())"
   ]
  },
  {
   "cell_type": "code",
   "execution_count": 10,
   "metadata": {},
   "outputs": [],
   "source": [
    "title_mapping = {'Mr': 1, \n",
    "                 'Miss': 2, \n",
    "                 'Mrs': 3, \n",
    "                 'Master': 4, \n",
    "                 'Royal': 5, \n",
    "                 'Rare': 6}\n",
    "\n",
    "replacement = {\n",
    "    'Lady': 'Rare', \n",
    "    'Capt': 'Rare', \n",
    "    'Col': 'Rare', \n",
    "    'Don': 'Rare', \n",
    "    'Dr': 'Rare', \n",
    "    'Major': 'Rare', \n",
    "    'Rev': 'Rare', \n",
    "    'Jonkheer': 'Rare', \n",
    "    'Dona': 'Rare', \n",
    "    'Countess': 'Royal', \n",
    "    'Sir': 'Royal',\n",
    "    'Mlle': 'Miss', \n",
    "    'Ms': 'Miss', \n",
    "    'Mme': 'Mrs'\n",
    "}\n",
    "\n",
    "replacement = {key: title_mapping[val] for key, val in replacement.items()}\n",
    "\n",
    "for df in combined:\n",
    "    df['Title'] = (df.Name\n",
    "                     .str.extract(' ([A-Za-z]+)\\.', expand=False)\n",
    "                     .replace(replacement)\n",
    "                     .map(title_mapping)\n",
    "                     .fillna(0))"
   ]
  },
  {
   "cell_type": "code",
   "execution_count": 11,
   "metadata": {},
   "outputs": [],
   "source": [
    "age_title_mapping = {1: 'Youth', \n",
    "                     2: 'Youth',\n",
    "                     3: 'Adult', \n",
    "                     4: 'Child', \n",
    "                     5: 'Adult', \n",
    "                     6: 'Adult'}\n",
    "\n",
    "for df in combined:\n",
    "    unknown_ages = df['Age Group'] == 'Unknown'\n",
    "    df.loc[unknown_ages, 'Age Group'] = df.loc[unknown_ages, 'Title'].map(age_title_mapping)"
   ]
  },
  {
   "cell_type": "code",
   "execution_count": 12,
   "metadata": {},
   "outputs": [],
   "source": [
    "age_mapping = {'Child': 1, \n",
    "               'Youth': 2, \n",
    "               'Adult': 3,\n",
    "               'Senior': 4}\n",
    "\n",
    "for df in combined:\n",
    "    df['Age Group'] = df['Age Group'].map(age_mapping)\n",
    "    df.drop(['Age'], axis=1, inplace=True)"
   ]
  },
  {
   "cell_type": "code",
   "execution_count": 13,
   "metadata": {},
   "outputs": [
    {
     "data": {
      "text/plain": [
       "PassengerId    0\n",
       "Survived       0\n",
       "Pclass         0\n",
       "Name           0\n",
       "Sex            0\n",
       "SibSp          0\n",
       "Parch          0\n",
       "Fare           0\n",
       "Embarked       0\n",
       "Age Group      1\n",
       "Title          0\n",
       "dtype: int64"
      ]
     },
     "execution_count": 13,
     "metadata": {},
     "output_type": "execute_result"
    }
   ],
   "source": [
    "train.isnull().sum()"
   ]
  },
  {
   "cell_type": "code",
   "execution_count": 14,
   "metadata": {},
   "outputs": [],
   "source": [
    "train.dropna(subset=['Age Group'], inplace=True)"
   ]
  },
  {
   "cell_type": "code",
   "execution_count": 15,
   "metadata": {},
   "outputs": [
    {
     "name": "stdout",
     "output_type": "stream",
     "text": [
      "   PassengerId  Survived  Pclass     Sex  SibSp  Parch     Fare Embarked  \\\n",
      "0            1         0       3    male      1      0   7.2500        S   \n",
      "1            2         1       1  female      1      0  71.2833        C   \n",
      "2            3         1       3  female      0      0   7.9250        S   \n",
      "3            4         1       1  female      1      0  53.1000        S   \n",
      "4            5         0       3    male      0      0   8.0500        S   \n",
      "\n",
      "   Age Group  Title  \n",
      "0        2.0    1.0  \n",
      "1        3.0    3.0  \n",
      "2        3.0    2.0  \n",
      "3        3.0    3.0  \n",
      "4        3.0    1.0  \n"
     ]
    }
   ],
   "source": [
    "train.drop(['Name'], axis=1, inplace=True)\n",
    "\n",
    "print(df.head())"
   ]
  },
  {
   "cell_type": "code",
   "execution_count": 16,
   "metadata": {},
   "outputs": [],
   "source": [
    "sex_mapping = {'female': 0, 'male': 1}\n",
    "embarked_mapping = {'S': 1, 'C': 2, 'Q': 3}\n",
    "\n",
    "for df in combined:\n",
    "    df['Sex'] = df['Sex'].map(sex_mapping)\n",
    "    df['Embarked'] = df['Embarked'].map(embarked_mapping)"
   ]
  },
  {
   "cell_type": "code",
   "execution_count": 17,
   "metadata": {},
   "outputs": [],
   "source": [
    "for df in combined:\n",
    "    df['Fare'] = df.groupby('Pclass')['Fare'].transform(lambda x: x.fillna(x.mean()))\n",
    "\n",
    "for df in combined:\n",
    "    df['Fare Band'] = pd.qcut(df['Fare'], 4, labels=[1, 2, 3, 4])\n",
    "    df.drop(['Fare'], axis=1, inplace=True)"
   ]
  },
  {
   "cell_type": "code",
   "execution_count": 18,
   "metadata": {},
   "outputs": [
    {
     "name": "stdout",
     "output_type": "stream",
     "text": [
      "   PassengerId  Survived  Pclass  Sex  SibSp  Parch  Embarked  Age Group  \\\n",
      "0            1         0       3    1      1      0         1        2.0   \n",
      "1            2         1       1    0      1      0         2        3.0   \n",
      "2            3         1       3    0      0      0         1        3.0   \n",
      "3            4         1       1    0      1      0         1        3.0   \n",
      "4            5         0       3    1      0      0         1        3.0   \n",
      "\n",
      "   Title Fare Band  \n",
      "0    1.0         1  \n",
      "1    3.0         4  \n",
      "2    2.0         2  \n",
      "3    3.0         4  \n",
      "4    1.0         2  \n"
     ]
    }
   ],
   "source": [
    "print(train.head())"
   ]
  },
  {
   "cell_type": "code",
   "execution_count": 19,
   "metadata": {},
   "outputs": [],
   "source": [
    "from sklearn.model_selection import train_test_split\n",
    "\n",
    "predictors = train.drop(['Survived', 'PassengerId'], axis=1)\n",
    "target = train['Survived']\n",
    "x_train, x_val, y_train, y_val = train_test_split(predictors, target, test_size=0.2, random_state=0)"
   ]
  },
  {
   "cell_type": "code",
   "execution_count": 22,
   "metadata": {},
   "outputs": [
    {
     "name": "stdout",
     "output_type": "stream",
     "text": [
      "81.46\n"
     ]
    }
   ],
   "source": [
    "from sklearn.ensemble import RandomForestClassifier\n",
    "from sklearn.metrics import accuracy_score\n",
    "\n",
    "randomforest = RandomForestClassifier()\n",
    "\n",
    "randomforest.fit(x_train, y_train)\n",
    "y_pred = randomforest.predict(x_val)\n",
    "\n",
    "accuracy_rf = round(accuracy_score(y_pred, y_val) * 100, 2)\n",
    "print(accuracy_rf)"
   ]
  }
 ],
 "metadata": {
  "kernelspec": {
   "display_name": "base",
   "language": "python",
   "name": "python3"
  },
  "language_info": {
   "codemirror_mode": {
    "name": "ipython",
    "version": 3
   },
   "file_extension": ".py",
   "mimetype": "text/x-python",
   "name": "python",
   "nbconvert_exporter": "python",
   "pygments_lexer": "ipython3",
   "version": "3.10.10"
  },
  "orig_nbformat": 4
 },
 "nbformat": 4,
 "nbformat_minor": 2
}
